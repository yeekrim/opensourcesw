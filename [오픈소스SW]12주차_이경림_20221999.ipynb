{
  "nbformat": 4,
  "nbformat_minor": 0,
  "metadata": {
    "colab": {
      "provenance": []
    },
    "kernelspec": {
      "name": "python3",
      "display_name": "Python 3"
    },
    "language_info": {
      "name": "python"
    }
  },
  "cells": [
    {
      "cell_type": "code",
      "source": [
        "from abc import ABC, abstractmethod\n",
        "from collections import namedtuple\n",
        "\n",
        "Customer = namedtuple('Customer', 'name fidelity')"
      ],
      "metadata": {
        "id": "cFa_BIQtLe1g"
      },
      "execution_count": 6,
      "outputs": []
    },
    {
      "cell_type": "code",
      "source": [
        "park = Customer('Jack',100)\n",
        "park"
      ],
      "metadata": {
        "colab": {
          "base_uri": "https://localhost:8080/"
        },
        "id": "WqdHzGgXLjas",
        "outputId": "3c56c1f5-c606-422e-ba39-28677ad86c0f"
      },
      "execution_count": 7,
      "outputs": [
        {
          "output_type": "execute_result",
          "data": {
            "text/plain": [
              "Customer(name='Jack', fidelity=100)"
            ]
          },
          "metadata": {},
          "execution_count": 7
        }
      ]
    },
    {
      "cell_type": "code",
      "source": [
        "class LineItem:\n",
        "    \"\"\"구매할 물품/갯수 생성해서 총 가격을 반환\"\"\"\n",
        "    def __init__(self, product, quantity, price):\n",
        "        self.product = product\n",
        "        self.quantity = quantity\n",
        "        self.price = price\n",
        "\n",
        "    def total(self):\n",
        "        return self.price * self.quantity"
      ],
      "metadata": {
        "id": "25arhSYJLs3J"
      },
      "execution_count": 8,
      "outputs": []
    },
    {
      "cell_type": "code",
      "execution_count": 9,
      "metadata": {
        "id": "_qZME-PiJRlW"
      },
      "outputs": [],
      "source": [
        "class Order: # Context\n",
        "    \"\"\"고객(namedtuple) 및 LineItem 클래스의 인스턴스들을 cart로 받아서 총 계산할 가격을 산출\"\"\"\n",
        "    def __init__(self, customer, cart, promotion=None):\n",
        "        self.customer = customer\n",
        "        self.cart = list(cart)\n",
        "        self.promotion = promotion # 할인 객체\n",
        "\n",
        "    def total(self):\n",
        "        \"\"\"__total 속성이 없으면 전체 계산할 값을 계산\"\"\"\n",
        "        if not hasattr(self, '__total'):\n",
        "            self.__total = sum(item.total() for item in self.cart)\n",
        "        return self.__total\n",
        "\n",
        "    def due(self):\n",
        "        \"\"\"할인금액 차감\"\"\"\n",
        "        if self.promotion is None:\n",
        "            discount = 0\n",
        "        else:\n",
        "            discount = self.promotion.discount(self) # self = Order 객체\n",
        "        return self.total() - discount\n",
        "\n",
        "    def __repr__(self):\n",
        "        fmt = '<Order total: {:.2f} due: {:.2f}>'\n",
        "        return fmt.format(self.total(), self.due())"
      ]
    },
    {
      "cell_type": "code",
      "source": [
        "class Promotion(ABC): # strategy : abstract base class\n",
        "    \"\"\"할인 혜택 클래스들의 형태를 선언\"\"\"\n",
        "\n",
        "    @abstractmethod # 이 클래스를 상속하는 클래스는 반드시 이 메서드를 선언해야함\n",
        "    def discount(self, order):\n",
        "        \"\"\"할인액을 구체적인 숫자로 반환\"\"\"\n",
        "        pass"
      ],
      "metadata": {
        "id": "Y5gdvYvNJvtP"
      },
      "execution_count": 10,
      "outputs": []
    },
    {
      "cell_type": "code",
      "source": [
        "class FidelityPromo(Promotion):\n",
        "    \"\"\"충성도 점수가 1000점 이상인 고객에게 전체 5% 할인 적용\"\"\"\n",
        "\n",
        "    def discount(self, order):\n",
        "        return order.total() * 0.05 if order.customer.fidelity >= 1000 else 0\n",
        "\n",
        "class BulkItemPromo(Promotion):\n",
        "    \"\"\"20개 이상의 동일 상품을 구입하면 10% 할인 적용\"\"\"\n",
        "\n",
        "    def discount(self, order):\n",
        "        discount = 0\n",
        "        for item in order.cart:\n",
        "            if item.quantity >= 20:\n",
        "                discount += item.total() * 0.1\n",
        "        return discount\n",
        "\n",
        "class LargeOrderPromo(Promotion):\n",
        "    \"\"\"10종류 이상의 상품을 구입하면 전체 7% 할인 적용\"\"\"\n",
        "\n",
        "    def discount(self, order):\n",
        "        distinct_items = {item.product for item in order.cart}\n",
        "        if len(distinct_items) >= 10:\n",
        "            return order.total() * 0.07\n",
        "        return 0"
      ],
      "metadata": {
        "id": "QdxTimxWJzeY"
      },
      "execution_count": 11,
      "outputs": []
    },
    {
      "cell_type": "code",
      "source": [
        "joe = Customer('John Doe', 0)\n",
        "ann = Customer('Ann Smith', 1100)\n",
        "cart = [LineItem('banana', 4, .5),\n",
        "       LineItem('apple', 10, 1.5),\n",
        "       LineItem('watermellon', 5, 5.0)]"
      ],
      "metadata": {
        "id": "JPnu4ZVWJ2Pd"
      },
      "execution_count": 12,
      "outputs": []
    },
    {
      "cell_type": "code",
      "source": [
        "Order(joe, cart, FidelityPromo())"
      ],
      "metadata": {
        "colab": {
          "base_uri": "https://localhost:8080/"
        },
        "id": "i5NtOK9QJ4Lr",
        "outputId": "d1f80e31-6bae-4e31-90aa-b52c6bd561ea"
      },
      "execution_count": 13,
      "outputs": [
        {
          "output_type": "execute_result",
          "data": {
            "text/plain": [
              "<Order total: 42.00 due: 42.00>"
            ]
          },
          "metadata": {},
          "execution_count": 13
        }
      ]
    },
    {
      "cell_type": "code",
      "source": [
        "Order(ann, cart, FidelityPromo())"
      ],
      "metadata": {
        "colab": {
          "base_uri": "https://localhost:8080/"
        },
        "id": "HkLJ6c79J4c2",
        "outputId": "b70e4788-dd71-47b2-ce4a-7e91e5e1f052"
      },
      "execution_count": 14,
      "outputs": [
        {
          "output_type": "execute_result",
          "data": {
            "text/plain": [
              "<Order total: 42.00 due: 39.90>"
            ]
          },
          "metadata": {},
          "execution_count": 14
        }
      ]
    },
    {
      "cell_type": "code",
      "source": [
        "banana_cart = [LineItem('banana', 30, .5),\n",
        "               LineItem('apple', 10, 1.5)]"
      ],
      "metadata": {
        "id": "Tik5aqb3KUpl"
      },
      "execution_count": 15,
      "outputs": []
    },
    {
      "cell_type": "code",
      "source": [
        "Order(joe, banana_cart, BulkItemPromo())"
      ],
      "metadata": {
        "colab": {
          "base_uri": "https://localhost:8080/"
        },
        "id": "akoOjCBfKU7w",
        "outputId": "306779bf-7ff7-4f44-9000-c6d68c3d3857"
      },
      "execution_count": 16,
      "outputs": [
        {
          "output_type": "execute_result",
          "data": {
            "text/plain": [
              "<Order total: 30.00 due: 28.50>"
            ]
          },
          "metadata": {},
          "execution_count": 16
        }
      ]
    },
    {
      "cell_type": "code",
      "source": [
        "long_order = [LineItem(str(item_code), 1, 1.0)\n",
        "             for item_code in range(10)] # 물품 종류가 10개"
      ],
      "metadata": {
        "id": "pfpLo_iFKY9D"
      },
      "execution_count": 17,
      "outputs": []
    },
    {
      "cell_type": "code",
      "source": [
        "Order(joe, long_order, LargeOrderPromo())"
      ],
      "metadata": {
        "colab": {
          "base_uri": "https://localhost:8080/"
        },
        "id": "_7pt_kP5KZui",
        "outputId": "09614f8e-8eb9-47c2-e829-375dcc13e773"
      },
      "execution_count": 18,
      "outputs": [
        {
          "output_type": "execute_result",
          "data": {
            "text/plain": [
              "<Order total: 10.00 due: 9.30>"
            ]
          },
          "metadata": {},
          "execution_count": 18
        }
      ]
    },
    {
      "cell_type": "code",
      "source": [
        "Order(joe, cart, LargeOrderPromo())"
      ],
      "metadata": {
        "colab": {
          "base_uri": "https://localhost:8080/"
        },
        "id": "CD7zKMh7Kb4T",
        "outputId": "f7c27c9a-002a-4fb3-926b-556a3d0601c9"
      },
      "execution_count": 19,
      "outputs": [
        {
          "output_type": "execute_result",
          "data": {
            "text/plain": [
              "<Order total: 42.00 due: 42.00>"
            ]
          },
          "metadata": {},
          "execution_count": 19
        }
      ]
    },
    {
      "cell_type": "code",
      "source": [
        "class Order: # Context\n",
        "    \"\"\"고객(namedtuple) 및 LineItem 클래스의 인스턴스들을 cart로 받아서 총 계산할 가격을 산출\"\"\"\n",
        "    def __init__(self, customer, cart, promotion=None):\n",
        "        self.customer = customer\n",
        "        self.cart = list(cart)\n",
        "        self.promotion = promotion # 할인 객체\n",
        "\n",
        "    def total(self):\n",
        "        if not hasattr(self, '__total'):\n",
        "            self.__total = sum(item.total() for item in self.cart)\n",
        "        return self.__total\n",
        "\n",
        "    def due(self):\n",
        "        if self.promotion is None:\n",
        "            discount = 0\n",
        "        else:\n",
        "            discount = self.promotion(self) # promotion은 함수 객체\n",
        "        return self.total() - discount\n",
        "\n",
        "    def __repr__(self):\n",
        "        fmt = '<Order total: {:.2f} due: {:.2f}>'\n",
        "        return fmt.format(self.total(), self.due())"
      ],
      "metadata": {
        "id": "55Ef9Dk9KrJ8"
      },
      "execution_count": 20,
      "outputs": []
    },
    {
      "cell_type": "code",
      "source": [
        "def fidelity_promo(order):\n",
        "    \"\"\"충성도 점수가 1000점 이상인 고객에게 전체 5% 할인 적용\"\"\"\n",
        "    return order.total() * 0.05 if order.customer.fidelity >= 1000 else 0\n",
        "\n",
        "def bulk_item_promo(order):\n",
        "    \"\"\"20개 이상의 동일 상품을 구입하면 10% 할인 적용\"\"\"\n",
        "    discount = 0\n",
        "    for item in order.cart:\n",
        "        if item.quantity >= 20:\n",
        "            discount += item.total() * 0.1\n",
        "    return discount\n",
        "\n",
        "def large_order_promo(order):\n",
        "    \"\"\"10종류 이상의 상품을 구입하면 전체 7% 할인 적용\"\"\"\n",
        "    distinct_items = {item.product for item in order.cart}\n",
        "    if len(distinct_items) >= 10:\n",
        "        return order.total() * 0.07\n",
        "    return 0"
      ],
      "metadata": {
        "id": "6FanPQ1NKrtD"
      },
      "execution_count": 21,
      "outputs": []
    },
    {
      "cell_type": "code",
      "source": [
        "Order(joe, cart, fidelity_promo)"
      ],
      "metadata": {
        "colab": {
          "base_uri": "https://localhost:8080/"
        },
        "id": "Rinx72C6KwM0",
        "outputId": "d332dedb-fda7-4eb0-b658-03d62ccfd0b7"
      },
      "execution_count": 22,
      "outputs": [
        {
          "output_type": "execute_result",
          "data": {
            "text/plain": [
              "<Order total: 42.00 due: 42.00>"
            ]
          },
          "metadata": {},
          "execution_count": 22
        }
      ]
    },
    {
      "cell_type": "code",
      "source": [
        "Order(ann, cart, fidelity_promo)"
      ],
      "metadata": {
        "colab": {
          "base_uri": "https://localhost:8080/"
        },
        "id": "wiytyUeNK1Fj",
        "outputId": "976a8678-01c0-413b-a776-3bfd053ef8ad"
      },
      "execution_count": 23,
      "outputs": [
        {
          "output_type": "execute_result",
          "data": {
            "text/plain": [
              "<Order total: 42.00 due: 39.90>"
            ]
          },
          "metadata": {},
          "execution_count": 23
        }
      ]
    },
    {
      "cell_type": "code",
      "source": [
        "Order(joe, banana_cart, bulk_item_promo)"
      ],
      "metadata": {
        "colab": {
          "base_uri": "https://localhost:8080/"
        },
        "id": "e9CG406sK1DN",
        "outputId": "93ee531d-c437-493f-c042-5332dba83735"
      },
      "execution_count": 24,
      "outputs": [
        {
          "output_type": "execute_result",
          "data": {
            "text/plain": [
              "<Order total: 30.00 due: 28.50>"
            ]
          },
          "metadata": {},
          "execution_count": 24
        }
      ]
    },
    {
      "cell_type": "code",
      "source": [
        "Order(ann, long_order, large_order_promo)"
      ],
      "metadata": {
        "colab": {
          "base_uri": "https://localhost:8080/"
        },
        "id": "Mor0qLX1K1Am",
        "outputId": "4b052c15-83b1-4756-e1d3-bf81e82a00a5"
      },
      "execution_count": 25,
      "outputs": [
        {
          "output_type": "execute_result",
          "data": {
            "text/plain": [
              "<Order total: 10.00 due: 9.30>"
            ]
          },
          "metadata": {},
          "execution_count": 25
        }
      ]
    },
    {
      "cell_type": "code",
      "source": [
        "promos = [fidelity_promo, bulk_item_promo, large_order_promo]\n",
        "# 함수들로 구현된 전략들의 리스트\n",
        "\n",
        "def best_promo(order):\n",
        "    \"\"\"최대로 할인받을 금액을 반환\"\"\"\n",
        "    return max(promo(order) for promo in promos)"
      ],
      "metadata": {
        "id": "5rp9qP12K093"
      },
      "execution_count": 26,
      "outputs": []
    },
    {
      "cell_type": "code",
      "source": [
        "Order(joe, long_order, best_promo)"
      ],
      "metadata": {
        "colab": {
          "base_uri": "https://localhost:8080/"
        },
        "id": "QddCLU3QK05H",
        "outputId": "750bd715-cef1-4756-95ef-422cbc8246c0"
      },
      "execution_count": 27,
      "outputs": [
        {
          "output_type": "execute_result",
          "data": {
            "text/plain": [
              "<Order total: 10.00 due: 9.30>"
            ]
          },
          "metadata": {},
          "execution_count": 27
        }
      ]
    },
    {
      "cell_type": "code",
      "source": [
        "Order(joe, banana_cart, best_promo)"
      ],
      "metadata": {
        "colab": {
          "base_uri": "https://localhost:8080/"
        },
        "id": "dD8VUiknK0l0",
        "outputId": "74463f53-0938-4870-aa55-f11fc30b4615"
      },
      "execution_count": 28,
      "outputs": [
        {
          "output_type": "execute_result",
          "data": {
            "text/plain": [
              "<Order total: 30.00 due: 28.50>"
            ]
          },
          "metadata": {},
          "execution_count": 28
        }
      ]
    },
    {
      "cell_type": "code",
      "source": [
        "Order(ann, cart, best_promo)"
      ],
      "metadata": {
        "colab": {
          "base_uri": "https://localhost:8080/"
        },
        "id": "2fiDq1gOMwEL",
        "outputId": "ee58e546-662c-4f34-8c04-7c2c58160d71"
      },
      "execution_count": 29,
      "outputs": [
        {
          "output_type": "execute_result",
          "data": {
            "text/plain": [
              "<Order total: 42.00 due: 39.90>"
            ]
          },
          "metadata": {},
          "execution_count": 29
        }
      ]
    },
    {
      "cell_type": "code",
      "source": [
        "globals().keys()"
      ],
      "metadata": {
        "colab": {
          "base_uri": "https://localhost:8080/"
        },
        "id": "Uvejfv24M2GI",
        "outputId": "6e36f9bc-7f8e-452f-8464-fde53ce70a61"
      },
      "execution_count": 30,
      "outputs": [
        {
          "output_type": "execute_result",
          "data": {
            "text/plain": [
              "dict_keys(['__name__', '__doc__', '__package__', '__loader__', '__spec__', '__builtin__', '__builtins__', '_ih', '_oh', '_dh', 'In', 'Out', 'get_ipython', 'exit', 'quit', '_', '__', '___', '_i', '_ii', '_iii', '_i1', 'Order', '_i2', '_i3', '_i4', 'ABC', 'abstractmethod', 'namedtuple', 'Customer', '_i5', 'park', '_5', '_i6', '_i7', '_7', '_i8', 'LineItem', '_i9', '_i10', 'Promotion', '_i11', 'FidelityPromo', 'BulkItemPromo', 'LargeOrderPromo', '_i12', 'joe', 'ann', 'cart', '_i13', '_13', '_i14', '_14', '_i15', 'banana_cart', '_i16', '_16', '_i17', 'long_order', '_i18', '_18', '_i19', '_19', '_i20', '_i21', 'fidelity_promo', 'bulk_item_promo', 'large_order_promo', '_i22', '_22', '_i23', '_23', '_i24', '_24', '_i25', '_25', '_i26', 'promos', 'best_promo', '_i27', '_27', '_i28', '_28', '_i29', '_29', '_i30'])"
            ]
          },
          "metadata": {},
          "execution_count": 30
        }
      ]
    },
    {
      "cell_type": "code",
      "source": [
        "globals()['best_promo']"
      ],
      "metadata": {
        "colab": {
          "base_uri": "https://localhost:8080/",
          "height": 103
        },
        "id": "UVS2TkXYM87x",
        "outputId": "f765a5c0-799a-4c50-fb84-87fa1fb93739"
      },
      "execution_count": 31,
      "outputs": [
        {
          "output_type": "execute_result",
          "data": {
            "text/plain": [
              "<function __main__.best_promo(order)>"
            ],
            "text/html": [
              "<div style=\"max-width:800px; border: 1px solid var(--colab-border-color);\"><style>\n",
              "      pre.function-repr-contents {\n",
              "        overflow-x: auto;\n",
              "        padding: 8px 12px;\n",
              "        max-height: 500px;\n",
              "      }\n",
              "\n",
              "      pre.function-repr-contents.function-repr-contents-collapsed {\n",
              "        cursor: pointer;\n",
              "        max-height: 100px;\n",
              "      }\n",
              "    </style>\n",
              "    <pre style=\"white-space: initial; background:\n",
              "         var(--colab-secondary-surface-color); padding: 8px 12px;\n",
              "         border-bottom: 1px solid var(--colab-border-color);\"><b>best_promo</b><br/>def best_promo(order)</pre><pre class=\"function-repr-contents function-repr-contents-collapsed\" style=\"\"><a class=\"filepath\" style=\"display:none\" href=\"#\">/content/&lt;ipython-input-26-a8bd548ebca5&gt;</a>최대로 할인받을 금액을 반환</pre></div>"
            ]
          },
          "metadata": {},
          "execution_count": 31
        }
      ]
    },
    {
      "cell_type": "code",
      "source": [
        "promos = [globals()[name] for name in globals()\n",
        "         if name.endswith('_promo')\n",
        "         and name != 'best_promo'] # 재귀호출을 피하기 위함\n",
        "promos"
      ],
      "metadata": {
        "colab": {
          "base_uri": "https://localhost:8080/"
        },
        "id": "XqaYQ3d1NF9k",
        "outputId": "a7cb2d2a-37ec-42fd-9896-1daa67b22c4f"
      },
      "execution_count": 32,
      "outputs": [
        {
          "output_type": "execute_result",
          "data": {
            "text/plain": [
              "[<function __main__.fidelity_promo(order)>,\n",
              " <function __main__.bulk_item_promo(order)>,\n",
              " <function __main__.large_order_promo(order)>]"
            ]
          },
          "metadata": {},
          "execution_count": 32
        }
      ]
    },
    {
      "cell_type": "code",
      "source": [
        "def deco(func):\n",
        "    def inner():\n",
        "        print('running inner()')\n",
        "    return inner"
      ],
      "metadata": {
        "id": "zQ4YnXx4Oe-b"
      },
      "execution_count": 33,
      "outputs": []
    },
    {
      "cell_type": "code",
      "source": [
        "@deco\n",
        "def target():\n",
        "    print(\"running target()\")\n",
        "\n",
        "target()"
      ],
      "metadata": {
        "colab": {
          "base_uri": "https://localhost:8080/"
        },
        "id": "tMZf4vInOfy_",
        "outputId": "668f367b-bf2f-4ed0-aefb-5b23cfc246d7"
      },
      "execution_count": 34,
      "outputs": [
        {
          "output_type": "stream",
          "name": "stdout",
          "text": [
            "running inner()\n"
          ]
        }
      ]
    },
    {
      "cell_type": "code",
      "source": [
        "target"
      ],
      "metadata": {
        "colab": {
          "base_uri": "https://localhost:8080/",
          "height": 103
        },
        "id": "hm58qcPbOkTi",
        "outputId": "a42ee6d1-5b72-4759-b2e9-ddf27123c000"
      },
      "execution_count": 35,
      "outputs": [
        {
          "output_type": "execute_result",
          "data": {
            "text/plain": [
              "<function __main__.deco.<locals>.inner()>"
            ],
            "text/html": [
              "<div style=\"max-width:800px; border: 1px solid var(--colab-border-color);\"><style>\n",
              "      pre.function-repr-contents {\n",
              "        overflow-x: auto;\n",
              "        padding: 8px 12px;\n",
              "        max-height: 500px;\n",
              "      }\n",
              "\n",
              "      pre.function-repr-contents.function-repr-contents-collapsed {\n",
              "        cursor: pointer;\n",
              "        max-height: 100px;\n",
              "      }\n",
              "    </style>\n",
              "    <pre style=\"white-space: initial; background:\n",
              "         var(--colab-secondary-surface-color); padding: 8px 12px;\n",
              "         border-bottom: 1px solid var(--colab-border-color);\"><b>deco.&lt;locals&gt;.inner</b><br/>def inner()</pre><pre class=\"function-repr-contents function-repr-contents-collapsed\" style=\"\"><a class=\"filepath\" style=\"display:none\" href=\"#\">/content/&lt;ipython-input-33-6fd010cb97ae&gt;</a>&lt;no docstring&gt;</pre></div>"
            ]
          },
          "metadata": {},
          "execution_count": 35
        }
      ]
    },
    {
      "cell_type": "code",
      "source": [
        "registry = []\n",
        "\n",
        "def register(func):\n",
        "    print('running register(%s)' % func)\n",
        "    registry.append(func)\n",
        "    return func\n",
        "\n",
        "@register\n",
        "def f1():\n",
        "    print('running f1()')\n",
        "\n",
        "@register\n",
        "def f2():\n",
        "    print('running f2()')\n",
        "\n",
        "def f3():\n",
        "    print('running f3()')\n",
        "\n",
        "def main():\n",
        "    print('running main()')\n",
        "    print('registry ->', registry)\n",
        "    f1() # 이 경우 register()가 원래 함수를 반환하므로 f1()이 실행됨\n",
        "    f2()\n",
        "    f3()\n",
        "\n",
        "if __name__=='__main__':\n",
        "    main()"
      ],
      "metadata": {
        "colab": {
          "base_uri": "https://localhost:8080/"
        },
        "id": "FIX4z5IjOny9",
        "outputId": "a359d208-06fe-481b-8d8d-0a96fc7238d8"
      },
      "execution_count": 36,
      "outputs": [
        {
          "output_type": "stream",
          "name": "stdout",
          "text": [
            "running register(<function f1 at 0x7bd65249d360>)\n",
            "running register(<function f2 at 0x7bd65249d3f0>)\n",
            "running main()\n",
            "registry -> [<function f1 at 0x7bd65249d360>, <function f2 at 0x7bd65249d3f0>]\n",
            "running f1()\n",
            "running f2()\n",
            "running f3()\n"
          ]
        }
      ]
    },
    {
      "cell_type": "code",
      "source": [
        "promos = []\n",
        "\n",
        "def promotion(promo_func):\n",
        "    \"\"\"promotion() 데커레이터는 promo_func를 promos 리스트에 추가한 후 그대로 반환\"\"\"\n",
        "    promos.append(promo_func)\n",
        "    return promo_func\n",
        "\n",
        "@promotion\n",
        "def fidelity_promo(order):\n",
        "    \"\"\"충성도 점수가 1000점 이상인 고객에게 전체 5% 할인 적용\"\"\"\n",
        "    return order.total() * 0.05 if order.customer.fidelity >= 1000 else 0\n",
        "\n",
        "@promotion\n",
        "def bulk_item_promo(order):\n",
        "    \"\"\"20개 이상의 동일 상품을 구입하면 10% 할인 적용\"\"\"\n",
        "    discount = 0\n",
        "    for item in order.cart:\n",
        "        if item.quantity >= 20:\n",
        "            discount += item.total() * 0.1\n",
        "    return discount\n",
        "\n",
        "@promotion\n",
        "def large_order_promo(order):\n",
        "    \"\"\"10종류 이상의 상품을 구입하면 전체 7% 할인 적용\"\"\"\n",
        "    distinct_items = {item.product for item in order.cart}\n",
        "    if len(distinct_items) >= 10:\n",
        "        return order.total() * 0.07\n",
        "    return 0\n",
        "\n",
        "def best_promo(order):\n",
        "    \"\"\"최대로 할인받을 금액을 반환한다.\"\"\"\n",
        "    return max(promo(order) for promo in promos)"
      ],
      "metadata": {
        "id": "q_bQqI54O3Sn"
      },
      "execution_count": 37,
      "outputs": []
    },
    {
      "cell_type": "code",
      "source": [
        "def f1(a):\n",
        "    print(a)\n",
        "    print(b)\n",
        "\n",
        "f1(3)"
      ],
      "metadata": {
        "colab": {
          "base_uri": "https://localhost:8080/",
          "height": 309
        },
        "id": "yFYaVXGBO3Mo",
        "outputId": "025b96e4-67f2-45e6-e698-4f5dc4c90665"
      },
      "execution_count": 38,
      "outputs": [
        {
          "output_type": "stream",
          "name": "stdout",
          "text": [
            "3\n"
          ]
        },
        {
          "output_type": "error",
          "ename": "NameError",
          "evalue": "name 'b' is not defined",
          "traceback": [
            "\u001b[0;31m---------------------------------------------------------------------------\u001b[0m",
            "\u001b[0;31mNameError\u001b[0m                                 Traceback (most recent call last)",
            "\u001b[0;32m<ipython-input-38-0702f57afd95>\u001b[0m in \u001b[0;36m<cell line: 5>\u001b[0;34m()\u001b[0m\n\u001b[1;32m      3\u001b[0m     \u001b[0mprint\u001b[0m\u001b[0;34m(\u001b[0m\u001b[0mb\u001b[0m\u001b[0;34m)\u001b[0m\u001b[0;34m\u001b[0m\u001b[0;34m\u001b[0m\u001b[0m\n\u001b[1;32m      4\u001b[0m \u001b[0;34m\u001b[0m\u001b[0m\n\u001b[0;32m----> 5\u001b[0;31m \u001b[0mf1\u001b[0m\u001b[0;34m(\u001b[0m\u001b[0;36m3\u001b[0m\u001b[0;34m)\u001b[0m\u001b[0;34m\u001b[0m\u001b[0;34m\u001b[0m\u001b[0m\n\u001b[0m",
            "\u001b[0;32m<ipython-input-38-0702f57afd95>\u001b[0m in \u001b[0;36mf1\u001b[0;34m(a)\u001b[0m\n\u001b[1;32m      1\u001b[0m \u001b[0;32mdef\u001b[0m \u001b[0mf1\u001b[0m\u001b[0;34m(\u001b[0m\u001b[0ma\u001b[0m\u001b[0;34m)\u001b[0m\u001b[0;34m:\u001b[0m\u001b[0;34m\u001b[0m\u001b[0;34m\u001b[0m\u001b[0m\n\u001b[1;32m      2\u001b[0m     \u001b[0mprint\u001b[0m\u001b[0;34m(\u001b[0m\u001b[0ma\u001b[0m\u001b[0;34m)\u001b[0m\u001b[0;34m\u001b[0m\u001b[0;34m\u001b[0m\u001b[0m\n\u001b[0;32m----> 3\u001b[0;31m     \u001b[0mprint\u001b[0m\u001b[0;34m(\u001b[0m\u001b[0mb\u001b[0m\u001b[0;34m)\u001b[0m\u001b[0;34m\u001b[0m\u001b[0;34m\u001b[0m\u001b[0m\n\u001b[0m\u001b[1;32m      4\u001b[0m \u001b[0;34m\u001b[0m\u001b[0m\n\u001b[1;32m      5\u001b[0m \u001b[0mf1\u001b[0m\u001b[0;34m(\u001b[0m\u001b[0;36m3\u001b[0m\u001b[0;34m)\u001b[0m\u001b[0;34m\u001b[0m\u001b[0;34m\u001b[0m\u001b[0m\n",
            "\u001b[0;31mNameError\u001b[0m: name 'b' is not defined"
          ]
        }
      ]
    },
    {
      "cell_type": "code",
      "source": [
        "b=6\n",
        "f1(3)"
      ],
      "metadata": {
        "colab": {
          "base_uri": "https://localhost:8080/"
        },
        "id": "JMYJFnjkO3Cv",
        "outputId": "d98920db-d033-4ea6-a7f0-09d1402bb996"
      },
      "execution_count": 39,
      "outputs": [
        {
          "output_type": "stream",
          "name": "stdout",
          "text": [
            "3\n",
            "6\n"
          ]
        }
      ]
    },
    {
      "cell_type": "code",
      "source": [
        "b = 6\n",
        "def f2(a):\n",
        "    print(a)\n",
        "    print(b)\n",
        "    b=9\n",
        "\n",
        "f2(3)"
      ],
      "metadata": {
        "colab": {
          "base_uri": "https://localhost:8080/",
          "height": 309
        },
        "id": "sFgOzjk4O2rC",
        "outputId": "7e953293-064a-49dc-ec5e-7f06071ec5dc"
      },
      "execution_count": 40,
      "outputs": [
        {
          "output_type": "stream",
          "name": "stdout",
          "text": [
            "3\n"
          ]
        },
        {
          "output_type": "error",
          "ename": "UnboundLocalError",
          "evalue": "local variable 'b' referenced before assignment",
          "traceback": [
            "\u001b[0;31m---------------------------------------------------------------------------\u001b[0m",
            "\u001b[0;31mUnboundLocalError\u001b[0m                         Traceback (most recent call last)",
            "\u001b[0;32m<ipython-input-40-2c05de11f9e6>\u001b[0m in \u001b[0;36m<cell line: 7>\u001b[0;34m()\u001b[0m\n\u001b[1;32m      5\u001b[0m     \u001b[0mb\u001b[0m\u001b[0;34m=\u001b[0m\u001b[0;36m9\u001b[0m\u001b[0;34m\u001b[0m\u001b[0;34m\u001b[0m\u001b[0m\n\u001b[1;32m      6\u001b[0m \u001b[0;34m\u001b[0m\u001b[0m\n\u001b[0;32m----> 7\u001b[0;31m \u001b[0mf2\u001b[0m\u001b[0;34m(\u001b[0m\u001b[0;36m3\u001b[0m\u001b[0;34m)\u001b[0m\u001b[0;34m\u001b[0m\u001b[0;34m\u001b[0m\u001b[0m\n\u001b[0m",
            "\u001b[0;32m<ipython-input-40-2c05de11f9e6>\u001b[0m in \u001b[0;36mf2\u001b[0;34m(a)\u001b[0m\n\u001b[1;32m      2\u001b[0m \u001b[0;32mdef\u001b[0m \u001b[0mf2\u001b[0m\u001b[0;34m(\u001b[0m\u001b[0ma\u001b[0m\u001b[0;34m)\u001b[0m\u001b[0;34m:\u001b[0m\u001b[0;34m\u001b[0m\u001b[0;34m\u001b[0m\u001b[0m\n\u001b[1;32m      3\u001b[0m     \u001b[0mprint\u001b[0m\u001b[0;34m(\u001b[0m\u001b[0ma\u001b[0m\u001b[0;34m)\u001b[0m\u001b[0;34m\u001b[0m\u001b[0;34m\u001b[0m\u001b[0m\n\u001b[0;32m----> 4\u001b[0;31m     \u001b[0mprint\u001b[0m\u001b[0;34m(\u001b[0m\u001b[0mb\u001b[0m\u001b[0;34m)\u001b[0m\u001b[0;34m\u001b[0m\u001b[0;34m\u001b[0m\u001b[0m\n\u001b[0m\u001b[1;32m      5\u001b[0m     \u001b[0mb\u001b[0m\u001b[0;34m=\u001b[0m\u001b[0;36m9\u001b[0m\u001b[0;34m\u001b[0m\u001b[0;34m\u001b[0m\u001b[0m\n\u001b[1;32m      6\u001b[0m \u001b[0;34m\u001b[0m\u001b[0m\n",
            "\u001b[0;31mUnboundLocalError\u001b[0m: local variable 'b' referenced before assignment"
          ]
        }
      ]
    },
    {
      "cell_type": "code",
      "source": [
        "b = 6\n",
        "def f3(a):\n",
        "    global b\n",
        "    print(a)\n",
        "    print(b)\n",
        "    b=9\n",
        "\n",
        "f3(3)"
      ],
      "metadata": {
        "colab": {
          "base_uri": "https://localhost:8080/"
        },
        "id": "gbCEARkOPT-B",
        "outputId": "51c1cdb5-5f14-412b-9eb7-8214ecf3fe8d"
      },
      "execution_count": 41,
      "outputs": [
        {
          "output_type": "stream",
          "name": "stdout",
          "text": [
            "3\n",
            "6\n"
          ]
        }
      ]
    },
    {
      "cell_type": "code",
      "source": [
        "b"
      ],
      "metadata": {
        "colab": {
          "base_uri": "https://localhost:8080/"
        },
        "id": "cfUyzR9HQkP8",
        "outputId": "ebc00568-38a0-45bc-da42-237d78277008"
      },
      "execution_count": 42,
      "outputs": [
        {
          "output_type": "execute_result",
          "data": {
            "text/plain": [
              "9"
            ]
          },
          "metadata": {},
          "execution_count": 42
        }
      ]
    },
    {
      "cell_type": "code",
      "source": [
        "f3(3)"
      ],
      "metadata": {
        "colab": {
          "base_uri": "https://localhost:8080/"
        },
        "id": "H8dXLFYlQkLv",
        "outputId": "8b9ec27d-a4a6-4617-976b-90b06d7ef08a"
      },
      "execution_count": 43,
      "outputs": [
        {
          "output_type": "stream",
          "name": "stdout",
          "text": [
            "3\n",
            "9\n"
          ]
        }
      ]
    },
    {
      "cell_type": "code",
      "source": [
        "b=30\n",
        "f3(3)"
      ],
      "metadata": {
        "colab": {
          "base_uri": "https://localhost:8080/"
        },
        "id": "2JImMtOfQkJZ",
        "outputId": "b0031f5b-a361-4bc8-8bda-b1939a7f9e5c"
      },
      "execution_count": 44,
      "outputs": [
        {
          "output_type": "stream",
          "name": "stdout",
          "text": [
            "3\n",
            "30\n"
          ]
        }
      ]
    },
    {
      "cell_type": "code",
      "source": [
        "class Averager():\n",
        "    def __init__(self):\n",
        "        self.series = []\n",
        "\n",
        "    def __call__(self, new_value):\n",
        "        self.series.append(new_value)\n",
        "        total = sum(self.series)\n",
        "        return total/len(self.series)"
      ],
      "metadata": {
        "id": "DoOF2IC5QkGh"
      },
      "execution_count": 45,
      "outputs": []
    },
    {
      "cell_type": "code",
      "source": [
        "avg = Averager()\n",
        "avg(10)"
      ],
      "metadata": {
        "colab": {
          "base_uri": "https://localhost:8080/"
        },
        "id": "x_dXI03cQkDr",
        "outputId": "e38e67ca-2d0f-4777-f92c-0a8a614e5cc1"
      },
      "execution_count": 46,
      "outputs": [
        {
          "output_type": "execute_result",
          "data": {
            "text/plain": [
              "10.0"
            ]
          },
          "metadata": {},
          "execution_count": 46
        }
      ]
    },
    {
      "cell_type": "code",
      "source": [
        "avg(11)"
      ],
      "metadata": {
        "colab": {
          "base_uri": "https://localhost:8080/"
        },
        "id": "2avOPpZTQkBD",
        "outputId": "8c3c41e9-a76c-465c-82df-1acc2009a8da"
      },
      "execution_count": 47,
      "outputs": [
        {
          "output_type": "execute_result",
          "data": {
            "text/plain": [
              "10.5"
            ]
          },
          "metadata": {},
          "execution_count": 47
        }
      ]
    },
    {
      "cell_type": "code",
      "source": [
        "avg(12)"
      ],
      "metadata": {
        "colab": {
          "base_uri": "https://localhost:8080/"
        },
        "id": "DyvzV5QGQj7l",
        "outputId": "67943e6c-0fcb-4d74-be4b-0abfb1061999"
      },
      "execution_count": 48,
      "outputs": [
        {
          "output_type": "execute_result",
          "data": {
            "text/plain": [
              "11.0"
            ]
          },
          "metadata": {},
          "execution_count": 48
        }
      ]
    },
    {
      "cell_type": "code",
      "source": [
        "def make_averager():\n",
        "    series = []\n",
        "\n",
        "    def averager(new_value):\n",
        "        series.append(new_value)\n",
        "        total = sum(series)\n",
        "        return total/len(series)\n",
        "\n",
        "    return averager"
      ],
      "metadata": {
        "id": "4JKh2Da7Qj4_"
      },
      "execution_count": 49,
      "outputs": []
    },
    {
      "cell_type": "code",
      "source": [
        "avg = make_averager()\n",
        "avg(10)"
      ],
      "metadata": {
        "colab": {
          "base_uri": "https://localhost:8080/"
        },
        "id": "JcjDkL6SQjaz",
        "outputId": "8169e02e-edad-4887-9551-6b503496f335"
      },
      "execution_count": 50,
      "outputs": [
        {
          "output_type": "execute_result",
          "data": {
            "text/plain": [
              "10.0"
            ]
          },
          "metadata": {},
          "execution_count": 50
        }
      ]
    },
    {
      "cell_type": "code",
      "source": [
        "avg(11)"
      ],
      "metadata": {
        "colab": {
          "base_uri": "https://localhost:8080/"
        },
        "id": "Kwz1puNZRW3w",
        "outputId": "604da617-2123-4327-f893-9e58223b12a3"
      },
      "execution_count": 51,
      "outputs": [
        {
          "output_type": "execute_result",
          "data": {
            "text/plain": [
              "10.5"
            ]
          },
          "metadata": {},
          "execution_count": 51
        }
      ]
    },
    {
      "cell_type": "code",
      "source": [
        "avg(12)"
      ],
      "metadata": {
        "colab": {
          "base_uri": "https://localhost:8080/"
        },
        "id": "xZ8VWCS5RZuR",
        "outputId": "22360d49-06ab-491d-91b8-470da6751e18"
      },
      "execution_count": 52,
      "outputs": [
        {
          "output_type": "execute_result",
          "data": {
            "text/plain": [
              "11.0"
            ]
          },
          "metadata": {},
          "execution_count": 52
        }
      ]
    },
    {
      "cell_type": "code",
      "source": [
        "avg.__code__.co_varnames"
      ],
      "metadata": {
        "colab": {
          "base_uri": "https://localhost:8080/"
        },
        "id": "IUtfTUlhR6Rm",
        "outputId": "767df88d-8794-47d3-a453-2cd03de035b9"
      },
      "execution_count": 53,
      "outputs": [
        {
          "output_type": "execute_result",
          "data": {
            "text/plain": [
              "('new_value', 'total')"
            ]
          },
          "metadata": {},
          "execution_count": 53
        }
      ]
    },
    {
      "cell_type": "code",
      "source": [
        "avg.__code__.co_freevars"
      ],
      "metadata": {
        "colab": {
          "base_uri": "https://localhost:8080/"
        },
        "id": "kNQVL2EIR6y8",
        "outputId": "0f43d75d-4861-40e7-e432-3b2fc3bf1fbf"
      },
      "execution_count": 54,
      "outputs": [
        {
          "output_type": "execute_result",
          "data": {
            "text/plain": [
              "('series',)"
            ]
          },
          "metadata": {},
          "execution_count": 54
        }
      ]
    },
    {
      "cell_type": "code",
      "source": [
        "avg.__closure__"
      ],
      "metadata": {
        "colab": {
          "base_uri": "https://localhost:8080/"
        },
        "id": "UexfC2rPR7Yc",
        "outputId": "0f90c28f-6a30-41ba-822c-2a107af8cdb1"
      },
      "execution_count": 55,
      "outputs": [
        {
          "output_type": "execute_result",
          "data": {
            "text/plain": [
              "(<cell at 0x7bd63989df00: list object at 0x7bd639337f80>,)"
            ]
          },
          "metadata": {},
          "execution_count": 55
        }
      ]
    },
    {
      "cell_type": "code",
      "source": [
        "avg.__closure__[0].cell_contents"
      ],
      "metadata": {
        "colab": {
          "base_uri": "https://localhost:8080/"
        },
        "id": "6N3cZullR7WF",
        "outputId": "d92250d9-78f8-46b1-ca19-a9f1b4b61e58"
      },
      "execution_count": 56,
      "outputs": [
        {
          "output_type": "execute_result",
          "data": {
            "text/plain": [
              "[10, 11, 12]"
            ]
          },
          "metadata": {},
          "execution_count": 56
        }
      ]
    },
    {
      "cell_type": "code",
      "source": [
        "def make_averager():\n",
        "    count = 0\n",
        "    total = 0\n",
        "\n",
        "    def averager(new_value):\n",
        "        count += 1\n",
        "        total += new_value\n",
        "        return total / count\n",
        "\n",
        "    return averager"
      ],
      "metadata": {
        "id": "rk_Ahoc5R7Te"
      },
      "execution_count": 57,
      "outputs": []
    },
    {
      "cell_type": "code",
      "source": [
        "avg = make_averager()\n",
        "avg(10)"
      ],
      "metadata": {
        "colab": {
          "base_uri": "https://localhost:8080/",
          "height": 275
        },
        "id": "cNDKbe8ZR7Q3",
        "outputId": "e3c4fa8a-4518-4723-ba09-3d5c191313e8"
      },
      "execution_count": 58,
      "outputs": [
        {
          "output_type": "error",
          "ename": "UnboundLocalError",
          "evalue": "local variable 'count' referenced before assignment",
          "traceback": [
            "\u001b[0;31m---------------------------------------------------------------------------\u001b[0m",
            "\u001b[0;31mUnboundLocalError\u001b[0m                         Traceback (most recent call last)",
            "\u001b[0;32m<ipython-input-58-b5a6bb6dc4cd>\u001b[0m in \u001b[0;36m<cell line: 2>\u001b[0;34m()\u001b[0m\n\u001b[1;32m      1\u001b[0m \u001b[0mavg\u001b[0m \u001b[0;34m=\u001b[0m \u001b[0mmake_averager\u001b[0m\u001b[0;34m(\u001b[0m\u001b[0;34m)\u001b[0m\u001b[0;34m\u001b[0m\u001b[0;34m\u001b[0m\u001b[0m\n\u001b[0;32m----> 2\u001b[0;31m \u001b[0mavg\u001b[0m\u001b[0;34m(\u001b[0m\u001b[0;36m10\u001b[0m\u001b[0;34m)\u001b[0m\u001b[0;34m\u001b[0m\u001b[0;34m\u001b[0m\u001b[0m\n\u001b[0m",
            "\u001b[0;32m<ipython-input-57-441fdf395ae7>\u001b[0m in \u001b[0;36maverager\u001b[0;34m(new_value)\u001b[0m\n\u001b[1;32m      4\u001b[0m \u001b[0;34m\u001b[0m\u001b[0m\n\u001b[1;32m      5\u001b[0m     \u001b[0;32mdef\u001b[0m \u001b[0maverager\u001b[0m\u001b[0;34m(\u001b[0m\u001b[0mnew_value\u001b[0m\u001b[0;34m)\u001b[0m\u001b[0;34m:\u001b[0m\u001b[0;34m\u001b[0m\u001b[0;34m\u001b[0m\u001b[0m\n\u001b[0;32m----> 6\u001b[0;31m         \u001b[0mcount\u001b[0m \u001b[0;34m+=\u001b[0m \u001b[0;36m1\u001b[0m\u001b[0;34m\u001b[0m\u001b[0;34m\u001b[0m\u001b[0m\n\u001b[0m\u001b[1;32m      7\u001b[0m         \u001b[0mtotal\u001b[0m \u001b[0;34m+=\u001b[0m \u001b[0mnew_value\u001b[0m\u001b[0;34m\u001b[0m\u001b[0;34m\u001b[0m\u001b[0m\n\u001b[1;32m      8\u001b[0m         \u001b[0;32mreturn\u001b[0m \u001b[0mtotal\u001b[0m \u001b[0;34m/\u001b[0m \u001b[0mcount\u001b[0m\u001b[0;34m\u001b[0m\u001b[0;34m\u001b[0m\u001b[0m\n",
            "\u001b[0;31mUnboundLocalError\u001b[0m: local variable 'count' referenced before assignment"
          ]
        }
      ]
    },
    {
      "cell_type": "code",
      "source": [
        "def make_averager():\n",
        "    count = 0\n",
        "    total = 0\n",
        "\n",
        "    def averager(new_value):\n",
        "        nonlocal count, total\n",
        "        count += 1\n",
        "        total += new_value\n",
        "        return total / count\n",
        "\n",
        "    return averager"
      ],
      "metadata": {
        "id": "whsTZjAUSVyB"
      },
      "execution_count": 59,
      "outputs": []
    },
    {
      "cell_type": "code",
      "source": [
        "avg = make_averager()\n",
        "avg(10)"
      ],
      "metadata": {
        "colab": {
          "base_uri": "https://localhost:8080/"
        },
        "id": "BY9s_7h5SWaW",
        "outputId": "d730d99d-3a0f-4320-be3a-76e7cf0d2a3b"
      },
      "execution_count": 60,
      "outputs": [
        {
          "output_type": "execute_result",
          "data": {
            "text/plain": [
              "10.0"
            ]
          },
          "metadata": {},
          "execution_count": 60
        }
      ]
    },
    {
      "cell_type": "code",
      "source": [
        "import time\n",
        "\n",
        "def clock(func):\n",
        "    def clocked(*args):\n",
        "        t0 = time.perf_counter()\n",
        "        result = func(*args)\n",
        "        elapsed = time.perf_counter() - t0\n",
        "        name = func.__name__\n",
        "        arg_str = ', '.join(repr(arg) for arg in args)\n",
        "        print('[%0.8fs] %s(%s) -> %r' % (elapsed, name, arg_str, result))\n",
        "        return result\n",
        "    return clocked"
      ],
      "metadata": {
        "id": "AT0HNyn6SWYA"
      },
      "execution_count": 61,
      "outputs": []
    },
    {
      "cell_type": "code",
      "source": [
        "@clock\n",
        "def snooze(seconds):\n",
        "    time.sleep(seconds)\n",
        "\n",
        "@clock\n",
        "def factorial(n):\n",
        "    return 1 if n < 2 else n*factorial(n-1)\n",
        "\n",
        "if __name__=='__main__':\n",
        "    print('*'*40, 'Calling snooze(.123)')\n",
        "    snooze(.123)\n",
        "    print('*'*40, 'Calling factorial(6)')\n",
        "    print('6! =', factorial(6))"
      ],
      "metadata": {
        "colab": {
          "base_uri": "https://localhost:8080/"
        },
        "id": "zl-i2CjjSWVq",
        "outputId": "4ebfcc10-1704-4078-f237-42d4649a6924"
      },
      "execution_count": 62,
      "outputs": [
        {
          "output_type": "stream",
          "name": "stdout",
          "text": [
            "**************************************** Calling snooze(.123)\n",
            "[0.12323526s] snooze(0.123) -> None\n",
            "**************************************** Calling factorial(6)\n",
            "[0.00000078s] factorial(1) -> 1\n",
            "[0.00003870s] factorial(2) -> 2\n",
            "[0.00209289s] factorial(3) -> 6\n",
            "[0.00218235s] factorial(4) -> 24\n",
            "[0.00221016s] factorial(5) -> 120\n",
            "[0.00223820s] factorial(6) -> 720\n",
            "6! = 720\n"
          ]
        }
      ]
    },
    {
      "cell_type": "code",
      "source": [
        "factorial.__name__"
      ],
      "metadata": {
        "colab": {
          "base_uri": "https://localhost:8080/",
          "height": 35
        },
        "id": "C5ZQseqWSWTE",
        "outputId": "b1f23562-5ea2-4acf-cd81-fd07b223a3d0"
      },
      "execution_count": 63,
      "outputs": [
        {
          "output_type": "execute_result",
          "data": {
            "text/plain": [
              "'clocked'"
            ],
            "application/vnd.google.colaboratory.intrinsic+json": {
              "type": "string"
            }
          },
          "metadata": {},
          "execution_count": 63
        }
      ]
    },
    {
      "cell_type": "code",
      "source": [
        "import time\n",
        "import functools\n",
        "\n",
        "def clock(func):\n",
        "    @functools.wraps(func)\n",
        "    def clocked(*args,**kwargs):\n",
        "        t0 = time.time()\n",
        "        result = func(*args, **kwargs)\n",
        "        elapsed = time.time() - t0\n",
        "        arg_lst = []\n",
        "        name = func.__name__\n",
        "        if args:\n",
        "            arg_lst.append(', '.join(repr(arg) for arg in args))\n",
        "        if kwargs:\n",
        "            pairs = ['%s=%r' % (k,w) for k,w in sorted(kwargs.items())]\n",
        "            arg_lst.append(', '.join(pairs))\n",
        "        arg_str = ', '.join(arg_lst)\n",
        "        print('[%0.8fs] %s(%s) -> %r' % (elapsed, name, arg_str, result))\n",
        "        return result\n",
        "    return clocked"
      ],
      "metadata": {
        "id": "WvC62qoPU9fe"
      },
      "execution_count": 64,
      "outputs": []
    },
    {
      "cell_type": "code",
      "source": [
        "@clock\n",
        "def snooze(seconds):\n",
        "    time.sleep(seconds)\n",
        "\n",
        "@clock\n",
        "def factorial(n):\n",
        "    return 1 if n < 2 else n*factorial(n-1)\n",
        "\n",
        "if __name__=='__main__':\n",
        "    print('*'*40, 'Calling snooze(.123)')\n",
        "    snooze(.123)\n",
        "    print('*'*40, 'Calling factorial(6)')\n",
        "    print('6! =', factorial(6))"
      ],
      "metadata": {
        "colab": {
          "base_uri": "https://localhost:8080/"
        },
        "id": "fBeX3SDjU9Zy",
        "outputId": "20b543e8-9316-4a81-f084-065bbb6c9f0a"
      },
      "execution_count": 65,
      "outputs": [
        {
          "output_type": "stream",
          "name": "stdout",
          "text": [
            "**************************************** Calling snooze(.123)\n",
            "[0.12327886s] snooze(0.123) -> None\n",
            "**************************************** Calling factorial(6)\n",
            "[0.00000095s] factorial(1) -> 1\n",
            "[0.00004172s] factorial(2) -> 2\n",
            "[0.00006986s] factorial(3) -> 6\n",
            "[0.00009632s] factorial(4) -> 24\n",
            "[0.00012326s] factorial(5) -> 120\n",
            "[0.00213075s] factorial(6) -> 720\n",
            "6! = 720\n"
          ]
        }
      ]
    },
    {
      "cell_type": "code",
      "source": [
        "factorial.__name__"
      ],
      "metadata": {
        "colab": {
          "base_uri": "https://localhost:8080/",
          "height": 35
        },
        "id": "_K0YLBbYVRe8",
        "outputId": "119434a9-c544-4a5b-fa87-d07ad8668a5b"
      },
      "execution_count": 66,
      "outputs": [
        {
          "output_type": "execute_result",
          "data": {
            "text/plain": [
              "'factorial'"
            ],
            "application/vnd.google.colaboratory.intrinsic+json": {
              "type": "string"
            }
          },
          "metadata": {},
          "execution_count": 66
        }
      ]
    }
  ]
}